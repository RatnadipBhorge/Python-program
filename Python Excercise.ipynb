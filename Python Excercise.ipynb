{
 "cells": [
  {
   "cell_type": "markdown",
   "id": "ee0894c0",
   "metadata": {},
   "source": [
    "### Factorial of number\n",
    "Have the function FirstFactorial(num) take the num parameter being passed and return the factorial of it. For example: if num = 4, then your program should return (4 * 3 * 2 * 1) = 24. For the test cases, the range will be between 1 and 18 and the input will always be an integer."
   ]
  },
  {
   "cell_type": "code",
   "execution_count": 4,
   "id": "9612eb77",
   "metadata": {},
   "outputs": [
    {
     "name": "stdout",
     "output_type": "stream",
     "text": [
      "5\n",
      "120\n"
     ]
    }
   ],
   "source": [
    "def FirstFactorial(num): \n",
    "    if num == 1:\n",
    "        return 1\n",
    "    else:\n",
    "        return num * FirstFactorial(num-1)\n",
    "    # code goes here \n",
    "    # return num\n",
    "    \n",
    "# keep this function call here  \n",
    "print(FirstFactorial (int(input())))"
   ]
  },
  {
   "cell_type": "code",
   "execution_count": 6,
   "id": "0bf99c77",
   "metadata": {},
   "outputs": [
    {
     "name": "stdout",
     "output_type": "stream",
     "text": [
      "5\n",
      "120\n"
     ]
    }
   ],
   "source": [
    "def FirstFactorial(num): \n",
    "    if num == 1:\n",
    "        return 1\n",
    "    else:\n",
    "        return num * FirstFactorial(num-1)\n",
    "# keep this function call here \n",
    "num=int(input())\n",
    "print(FirstFactorial(num))"
   ]
  },
  {
   "cell_type": "markdown",
   "id": "e9165541",
   "metadata": {},
   "source": [
    "### Reverse of string"
   ]
  },
  {
   "cell_type": "code",
   "execution_count": 8,
   "id": "a18f6879",
   "metadata": {},
   "outputs": [
    {
     "name": "stdout",
     "output_type": "stream",
     "text": [
      "write a word:coderbyte\n"
     ]
    },
    {
     "data": {
      "text/plain": [
       "'etybredoc'"
      ]
     },
     "execution_count": 8,
     "metadata": {},
     "output_type": "execute_result"
    }
   ],
   "source": [
    "x=(input('write a word:'))\n",
    "x[::-1]"
   ]
  },
  {
   "cell_type": "code",
   "execution_count": 9,
   "id": "ce12eaa6",
   "metadata": {},
   "outputs": [
    {
     "name": "stdout",
     "output_type": "stream",
     "text": [
      "write a word:I Love code\n"
     ]
    },
    {
     "data": {
      "text/plain": [
       "'edoc evoL I'"
      ]
     },
     "execution_count": 9,
     "metadata": {},
     "output_type": "execute_result"
    }
   ],
   "source": [
    "x=(input('write a word:'))\n",
    "x[::-1]"
   ]
  },
  {
   "cell_type": "markdown",
   "id": "1445ef60",
   "metadata": {},
   "source": [
    "Excercises"
   ]
  },
  {
   "cell_type": "code",
   "execution_count": 11,
   "id": "6856509d",
   "metadata": {},
   "outputs": [
    {
     "name": "stdout",
     "output_type": "stream",
     "text": [
      "what is ur name: Ratnadip\n",
      "what is ur age30\n",
      "Ratnadip,you will be 100 years old in 2090\n"
     ]
    }
   ],
   "source": [
    "#Exercise 1\n",
    "#Create a program that asks the user to enter their\n",
    "#name and their age.\n",
    "#Print out a message addressed to them that tells \n",
    "#them the year that they will turn 100 years old.\n",
    "x=input('what is ur name: ')\n",
    "age1=int(input('what is ur age'))\n",
    "y=(2020-age1)+100\n",
    "print(x+  ',you will be 100 years old in '+str(y))"
   ]
  },
  {
   "cell_type": "code",
   "execution_count": 12,
   "id": "f59dcb22",
   "metadata": {},
   "outputs": [
    {
     "name": "stdout",
     "output_type": "stream",
     "text": [
      "enter the no4\n",
      "4is even\n"
     ]
    }
   ],
   "source": [
    "#Exercise 2\n",
    "#print whether the number is 'odd ' or 'even' \n",
    "a=int(input('enter the no'))\n",
    "if a%2==0:\n",
    "    print(str(a)+ 'is even')\n",
    "else:\n",
    "    print(str(a)+ 'is odd')"
   ]
  },
  {
   "cell_type": "code",
   "execution_count": 13,
   "id": "053546ca",
   "metadata": {},
   "outputs": [
    {
     "data": {
      "text/plain": [
       "[1, 1, 2, 3]"
      ]
     },
     "execution_count": 13,
     "metadata": {},
     "output_type": "execute_result"
    }
   ],
   "source": [
    "#Exercise 3\n",
    "#Instead of printing the elements one by one, \n",
    "#make a new list that has all the elements less\n",
    "#than 5 from this list in it and print out this new list.\n",
    "#Write this in one line of Python.\n",
    "b=[1,1,2,3,5,8,13,24,55,89,90]\n",
    "c=[]\n",
    "for i in b:\n",
    "    if i<5:\n",
    "        c.append(i)\n",
    "c"
   ]
  },
  {
   "cell_type": "code",
   "execution_count": 16,
   "id": "01247a5b",
   "metadata": {},
   "outputs": [
    {
     "name": "stdout",
     "output_type": "stream",
     "text": [
      "enter no11\n"
     ]
    },
    {
     "data": {
      "text/plain": [
       "[1, 11]"
      ]
     },
     "execution_count": 16,
     "metadata": {},
     "output_type": "execute_result"
    }
   ],
   "source": [
    "#Exercise 4\n",
    "#Create a program that asks the user\n",
    "#for a number and then prints out a list\n",
    "#of all the divisors of that number.\n",
    "d=int(input('enter no'))\n",
    "lst=list(range(1,d+1))\n",
    "divisor=[]\n",
    "for i in lst:\n",
    "    if d%i==0:\n",
    "        divisor.append(i)\n",
    "divisor"
   ]
  },
  {
   "cell_type": "code",
   "execution_count": 17,
   "id": "a2bacb5d",
   "metadata": {},
   "outputs": [
    {
     "data": {
      "text/plain": [
       "[1, 3, 7, 10, 11, 13, 20]"
      ]
     },
     "execution_count": 17,
     "metadata": {},
     "output_type": "execute_result"
    }
   ],
   "source": [
    "#Exercise 5\n",
    "e=[1,1,3,5,7,8,5,8,5,10,11,12,13,20]\n",
    "f=[1,3,6,7,9,9,11,13,10,20,30]\n",
    "g=[]\n",
    "e=set(e)\n",
    "f=set(f)\n",
    "for i in e:\n",
    "    for element in f:\n",
    "        if i==element:\n",
    "            g.append(i)\n",
    "g"
   ]
  },
  {
   "cell_type": "code",
   "execution_count": 20,
   "id": "041232cf",
   "metadata": {},
   "outputs": [
    {
     "name": "stdout",
     "output_type": "stream",
     "text": [
      "enter any name:  lol\n",
      "word is palindrome\n"
     ]
    }
   ],
   "source": [
    "\n",
    "#Exercise 6 \n",
    "#Ask the user for a string and print out whether\n",
    "#this string is a palindrome or not. (A palindrome is a \n",
    "#string that reads the same forwards and backwards.)\n",
    "h=input('enter any name:  ')\n",
    "j=h[::-1]#reversing the order of letters\n",
    "if h==j:\n",
    "    print('word is palindrome')"
   ]
  },
  {
   "cell_type": "code",
   "execution_count": 21,
   "id": "f8f2227b",
   "metadata": {},
   "outputs": [
    {
     "data": {
      "text/plain": [
       "[4, 16, 36, 64, 100]"
      ]
     },
     "execution_count": 21,
     "metadata": {},
     "output_type": "execute_result"
    }
   ],
   "source": [
    "#Exercise 7\n",
    "a=[1,4,9,16,25,36,49,64,81,100]\n",
    "b=[]\n",
    "for i in a:\n",
    "    if i%2==0:\n",
    "        b.append(i)\n",
    "b"
   ]
  },
  {
   "cell_type": "code",
   "execution_count": 22,
   "id": "9d6b744c",
   "metadata": {},
   "outputs": [
    {
     "data": {
      "text/plain": [
       "[4, 16, 36, 64, 100]"
      ]
     },
     "execution_count": 22,
     "metadata": {},
     "output_type": "execute_result"
    }
   ],
   "source": [
    "#Exercise 7(one line code)\n",
    "a=[1,4,9,16,25,36,49,64,81,100]\n",
    "c=[i for i in a if i%2==0]\n",
    "c"
   ]
  },
  {
   "cell_type": "code",
   "execution_count": 23,
   "id": "dc4ada63",
   "metadata": {},
   "outputs": [
    {
     "name": "stdout",
     "output_type": "stream",
     "text": [
      "Player 1: enter your choicerock\n",
      "Player 2: enter your choicepaper\n",
      "Paper wins!\n",
      "do you want to continue(y/n)n\n"
     ]
    }
   ],
   "source": [
    "#Exercise 8 \n",
    "#Make a two-player Rock-Paper-Scissors game. \n",
    "#(Hint: Ask for player plays (using input),\n",
    "#compare them, print out a message of congratulations\n",
    "#to the winner, and ask if the players want to start a new game)\n",
    "'''Remember the rules:\n",
    "\n",
    "Rock beats scissors\n",
    "Scissors beats paper\n",
    "Paper beats rock '''\n",
    "\n",
    "ch=\"y\"\n",
    "while(ch ==\"y\"):\n",
    "    u1=input(\"Player 1: enter your choice\")\n",
    "    u2=input(\"Player 2: enter your choice\")\n",
    "    if u1 == u2:\n",
    "        print(\"It's a tie!\")\n",
    "    elif u1 == 'rock':\n",
    "        if u2 == 'scissors':\n",
    "            print(\"Rock wins!\")\n",
    "        else:\n",
    "            print(\"Paper wins!\")\n",
    "    elif u1 == 'scissors':\n",
    "        if u2 == 'paper':\n",
    "            print(\"Scissors win!\")\n",
    "        else:\n",
    "            print(\"Rock wins!\")\n",
    "    elif u1 == 'paper':\n",
    "        if u2 == 'rock':\n",
    "            print(\"Paper wins!\")\n",
    "        else:\n",
    "            print(\"Scissors win!\")\n",
    "    ch=input(\"do you want to continue(y/n)\")"
   ]
  },
  {
   "cell_type": "code",
   "execution_count": 24,
   "id": "bd838cff",
   "metadata": {},
   "outputs": [
    {
     "name": "stdout",
     "output_type": "stream",
     "text": [
      "guess the no:7\n",
      "correct number is:2\n",
      "guess is too high\n"
     ]
    }
   ],
   "source": [
    "#Exercise 9 \n",
    "#Generate a random number between 1 and 9 \n",
    "#(including 1 and 9). Ask the user to guess the number, \n",
    "#then tell them whether they guessed too low, too high, \n",
    "#or exactly right.\n",
    "import numpy as np\n",
    "d=np.random.randint(1,10)\n",
    "e=int(input('guess the no:'))\n",
    "#for x in d:\n",
    "print('correct number is:'+str(d))\n",
    "if d==e:\n",
    "    print('congratulations your guess is right')\n",
    "elif e>9 or e<1:\n",
    "    print('your guess is out of range')\n",
    "elif e<d:\n",
    "    print('guess is too low')\n",
    "elif e>d:\n",
    "    print('guess is too high')\n",
    "else:\n",
    "    print('try another guess')"
   ]
  },
  {
   "cell_type": "code",
   "execution_count": 25,
   "id": "c5871e2b",
   "metadata": {},
   "outputs": [
    {
     "name": "stdout",
     "output_type": "stream",
     "text": [
      "[1, 2, 3, 5, 8, 13]\n"
     ]
    }
   ],
   "source": [
    "#Exercise 10\n",
    "#write a program that returns a list that contains only the\n",
    "#elements that are common between the lists (without duplicates). \n",
    "#Make sure your program works on two lists of different sizes.\n",
    "#Write this in one line of Python using at least one list comprehension.\n",
    "a = [1, 2, 3, 5, 8, 13, 21, 34, 55, 89]\n",
    "b = [1, 2, 3, 4, 5, 6, 7, 8, 9, 10, 11, 12, 13]\n",
    "c=[j for i in a for j in b if i==j]\n",
    "print(c)"
   ]
  },
  {
   "cell_type": "code",
   "execution_count": 28,
   "id": "4939ec0a",
   "metadata": {},
   "outputs": [
    {
     "name": "stdout",
     "output_type": "stream",
     "text": [
      "enter the no: 5\n",
      "[1, 2, 3, 4, 5]\n",
      "divisor [1, 5]\n",
      "its prime no\n"
     ]
    }
   ],
   "source": [
    "#Exercise 11\n",
    "#Ask the user for a number and determine whether the number is prime or not.\n",
    "a=int(input('enter the no: '))\n",
    "lst=list(range(1,a+1))\n",
    "print(lst)\n",
    "divisor=[]\n",
    "for i in lst:\n",
    "    if a%i==0:\n",
    "        divisor.append(i)\n",
    "print('divisor',divisor)\n",
    "if len(divisor)<=2:\n",
    "    print('its prime no')\n",
    "else:\n",
    "    print('its not prime no')"
   ]
  },
  {
   "cell_type": "code",
   "execution_count": 29,
   "id": "e6a0ea9a",
   "metadata": {},
   "outputs": [
    {
     "name": "stdout",
     "output_type": "stream",
     "text": [
      "[1, 2, 3, 4, 5, 6, 7, 8, 9, 10]\n",
      "[1, 10]\n"
     ]
    }
   ],
   "source": [
    "## Exercise 12\n",
    "#Write a program that takes a list of numbers \n",
    "#and makes a new list of only the first \n",
    "#and last elements of the given list.\n",
    "import numpy as np\n",
    "c=[]\n",
    "b=list(np.arange(1,11))\n",
    "print(b)\n",
    "for i in b:\n",
    "    if i==b[0] or i==b[9]:\n",
    "        c.append(i)\n",
    "print(c)"
   ]
  },
  {
   "cell_type": "code",
   "execution_count": 30,
   "id": "decf4bdd",
   "metadata": {},
   "outputs": [
    {
     "name": "stdout",
     "output_type": "stream",
     "text": [
      "[5, 25]\n"
     ]
    }
   ],
   "source": [
    "## Exercise 12 (Alternate)\n",
    "#Write a program that takes a list of numbers \n",
    "#(for example, a = [5, 10, 15, 20, 25]) and\n",
    "#makes a new list of only the first and last \n",
    "#elements of the given list. For practice, write\n",
    "#this code inside a function.\n",
    "a = [5, 10, 15, 20, 25]\n",
    "b=[]\n",
    "def first_last_element():\n",
    "    b.append(a[0])\n",
    "    b.append(a[-1])\n",
    "    return b\n",
    "print(first_last_element())"
   ]
  },
  {
   "cell_type": "code",
   "execution_count": 31,
   "id": "13395291",
   "metadata": {},
   "outputs": [
    {
     "name": "stdout",
     "output_type": "stream",
     "text": [
      "[1, 10]\n"
     ]
    }
   ],
   "source": [
    "## Exercise 12 (Alternate)\n",
    "#Write a program that takes a list of numbers \n",
    "#and makes a new list of only the first \n",
    "#and last elements of the given list.\n",
    "import numpy as np\n",
    "c=[]\n",
    "b=list(np.arange(1,11))\n",
    "def first_last_element():\n",
    "    for i in b:\n",
    "        if i==b[0] or i==b[9]:\n",
    "            c.append(i)\n",
    "    return c\n",
    "print(first_last_element())"
   ]
  },
  {
   "cell_type": "code",
   "execution_count": 32,
   "id": "15a1b3a5",
   "metadata": {},
   "outputs": [
    {
     "name": "stdout",
     "output_type": "stream",
     "text": [
      "How many numbers that generates?:5\n",
      "[1, 1, 2, 3, 5]\n"
     ]
    }
   ],
   "source": [
    "#Exercise 13\n",
    "\n",
    "#Write a program that asks the user how many Fibonnaci numbers to generate \n",
    "#and then generates them. \n",
    "#Take this opportunity to think about how you can use functions. \n",
    "#Make sure to ask the user to enter the number of numbers in the sequence to generate.\n",
    "#(Hint: The Fibonnaci seqence is a sequence of numbers \n",
    "#where the next number in the sequence is the sum of the previous two numbers in the sequence. \n",
    "#The sequence looks like this: 1, 1, 2, 3, 5, 8, 13, …)\n",
    "\n",
    "\n",
    "\n",
    "def fibonacci():\n",
    "    num = int(input(\"How many numbers that generates?:\"))\n",
    "    i = 1\n",
    "    if num == 0:\n",
    "        fib = []\n",
    "    elif num == 1:\n",
    "        fib = [1]\n",
    "    elif num == 2:\n",
    "        fib = [1,1]\n",
    "    elif num > 2:\n",
    "        fib = [1,1]\n",
    "        while i < (num - 1):\n",
    "            fib.append(fib[i] + fib[i-1])\n",
    "            i += 1\n",
    "    return fib\n",
    "print(fibonacci())"
   ]
  },
  {
   "cell_type": "code",
   "execution_count": 33,
   "id": "66b8b096",
   "metadata": {},
   "outputs": [
    {
     "data": {
      "text/plain": [
       "{1, 2, 3, 4, 5, 6, 7, 9, 10, 12, 13, 15, 16, 17, 19, 20, 21, 22, 100, 101}"
      ]
     },
     "execution_count": 33,
     "metadata": {},
     "output_type": "execute_result"
    }
   ],
   "source": [
    "#Exercise 14\n",
    "#Write a program (function) that takes a list \n",
    "#and return a new list that contains all the elements of the first list minus all the duplicates\n",
    "\n",
    "\n",
    "\n",
    "\n",
    "g=[1,2,3,4,5,5,6,7,9,10,12,12,13,15,15,100,100,101,16,17,17,19,20,20,21,21,21,21,22]\n",
    "h=lambda x:set(x) \n",
    "h(g)"
   ]
  },
  {
   "cell_type": "code",
   "execution_count": 34,
   "id": "361add9d",
   "metadata": {},
   "outputs": [
    {
     "data": {
      "text/plain": [
       "['u', 'are', 'how', 'swara', 'hi']"
      ]
     },
     "execution_count": 34,
     "metadata": {},
     "output_type": "execute_result"
    }
   ],
   "source": [
    "#Exercise 15\n",
    "#\n",
    "m='hi swara how are u'\n",
    "m=m.split()\n",
    "m=list(m)\n",
    "m[::-1]"
   ]
  },
  {
   "cell_type": "code",
   "execution_count": 35,
   "id": "d733b9d8",
   "metadata": {},
   "outputs": [
    {
     "name": "stdout",
     "output_type": "stream",
     "text": [
      "passward is :d63e2al5\n"
     ]
    }
   ],
   "source": [
    "#Exercise 16\n",
    "\n",
    "n='abcdefghijkl123456'\n",
    "import random\n",
    "p=''.join(random.sample(n,8))\n",
    "p\n",
    "print('passward is :'+ p)"
   ]
  },
  {
   "cell_type": "code",
   "execution_count": 36,
   "id": "1b0cf610",
   "metadata": {},
   "outputs": [
    {
     "name": "stdout",
     "output_type": "stream",
     "text": [
      "This is a link\n",
      "Skip to content\n",
      "This is a link\n",
      "Skip to site index\n",
      "This is a link\n",
      "\n",
      "This is a link\n",
      "U.S.\n",
      "This is a link\n",
      "International\n",
      "This is a link\n",
      "Canada\n",
      "This is a link\n",
      "Español\n",
      "This is a link\n",
      "中文\n",
      "This is a link\n",
      "Today’s Paper\n",
      "This is a link\n",
      "\n"
     ]
    }
   ],
   "source": [
    "#Exercise 17\n",
    "import requests\n",
    "from bs4 import BeautifulSoup\n",
    "response = requests.get('http://www.nytimes.com')\n",
    "doc = BeautifulSoup(response.text, 'html.parser')\n",
    "story = doc.find_all('article', { 'class': 'story' })\n",
    "#print(story)\n",
    "'''for story in story[:10]:\n",
    "    print(\"This is a story\")\n",
    "    headline = story.find('h2', { 'class': 'story-heading' })\n",
    "    print(headline.text)'''\n",
    "    \n",
    "links = doc.find_all('a')\n",
    "\n",
    "for link in links[:10]:\n",
    "    print(\"This is a link\")\n",
    "    print(link.text)"
   ]
  },
  {
   "cell_type": "code",
   "execution_count": 38,
   "id": "b0034aa7",
   "metadata": {},
   "outputs": [
    {
     "name": "stdout",
     "output_type": "stream",
     "text": [
      "594\n",
      "Guess a number1234\n",
      "(0, 3)\n"
     ]
    }
   ],
   "source": [
    "#Exercise 18 \n",
    "#four digit no is randomly generated and user have to guess that four digit no\n",
    "#for each correct digit out of four, there will 'cow' and for wrong guess digit there will be 'bulk'\n",
    "# if guess is correct then game over\n",
    "import random\n",
    "\n",
    "def compare_numbers(number, user_guess):\n",
    "    cow=0\n",
    "    bull = 0\n",
    "    for i in range(len(number)):\n",
    "        if number[i] == user_guess[i]:\n",
    "            cow+=1\n",
    "        else:\n",
    "            bull+=1\n",
    "    return cow,bull\n",
    "number = str(random.randint(0,9999))\n",
    "print(number)\n",
    "user_guess = input(\"Guess a number\")\n",
    "print(compare_numbers(number,user_guess))"
   ]
  },
  {
   "cell_type": "code",
   "execution_count": null,
   "id": "0c52e130",
   "metadata": {},
   "outputs": [],
   "source": [
    "#Exercise 20(BinarySearchAlgorithm)\n",
    "#Write a function that takes an ordered list of numbers \n",
    "#(a list where the elements are in order from smallest to largest) \n",
    "#and another number. The function decides whether or not the given number\n",
    "#is inside the list and returns (then prints) an appropriate boolean.\n",
    "a=[]\n",
    "n=int(input(\"enter number of elements in list\"))\n",
    "for i in range(0,n):\n",
    "    element=int(input())\n",
    "    a.append(element)\n",
    "    \n",
    "first,last=0,len(a)-1\n",
    "mid=int((first+last)/2)\n",
    "#print(mid)\n",
    "num=int(input(\"Enter number to search\"))\n",
    "while(first<=last):\n",
    "    if (a[mid]<num):\n",
    "        first=mid+1\n",
    "    elif(a[mid]==num):                         #mid=4,,10==10,hence elif executes\n",
    "        print(\"element is present at {}\".format(mid+1))\n",
    "        break\n",
    "    else:\n",
    "        last=mid-1\n",
    "    mid=int((first+last)/2)\n",
    "    if(first>last):\n",
    "        print(\"element is not present\")"
   ]
  },
  {
   "cell_type": "code",
   "execution_count": null,
   "id": "e2521d93",
   "metadata": {},
   "outputs": [],
   "source": []
  }
 ],
 "metadata": {
  "kernelspec": {
   "display_name": "Python 3",
   "language": "python",
   "name": "python3"
  },
  "language_info": {
   "codemirror_mode": {
    "name": "ipython",
    "version": 3
   },
   "file_extension": ".py",
   "mimetype": "text/x-python",
   "name": "python",
   "nbconvert_exporter": "python",
   "pygments_lexer": "ipython3",
   "version": "3.8.8"
  }
 },
 "nbformat": 4,
 "nbformat_minor": 5
}
